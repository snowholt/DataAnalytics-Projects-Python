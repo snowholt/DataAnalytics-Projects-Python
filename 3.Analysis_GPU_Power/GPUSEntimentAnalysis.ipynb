{
 "cells": [
  {
   "cell_type": "code",
   "execution_count": 1,
   "id": "e93cadd5-6a79-424f-8fb5-907eda739685",
   "metadata": {},
   "outputs": [],
   "source": [
    "### lets import all the necessary packages !\n",
    "import pandas as pd\n",
    "import numpy as np\n",
    "\n",
    "import os\n",
    "import time\n",
    "\n",
    "import json\n",
    "import string\n",
    "\n",
    "# Visualization\n",
    "import seaborn as sns\n",
    "import matplotlib.pyplot as plt\n",
    "import plotly.express as px\n",
    "import plotly.graph_objs as go\n",
    "import plotly.figure_factory as ff\n",
    "from plotly.offline import iplot\n",
    "\n",
    "# API\n",
    "from googleapiclient.discovery import build\n",
    "from googleapiclient.errors import HttpError\n",
    "\n",
    "# NLP and Sentiment Analysis\n",
    "import nltk\n",
    "import emoji\n",
    "from textblob import TextBlob\n",
    "#from collections import Counter\n",
    "#from wordcloud import WordCloud , STOPWORDS\n",
    "from vaderSentiment.vaderSentiment import SentimentIntensityAnalyzer\n",
    "from nltk.corpus import stopwords\n",
    "\n",
    "# GPU\n",
    "from multiprocessing import Pool\n",
    "import cupy as cp\n",
    "import cudf as cd\n",
    "import torch\n",
    "#from nltk.sentiment import SentimentIntensityAnalyzer\n",
    "#import dask.dataframe as dd\n",
    "\n",
    "\n",
    "\n"
   ]
  },
  {
   "cell_type": "code",
   "execution_count": null,
   "id": "e4b3d109-a416-4f30-b52f-0518c6c61935",
   "metadata": {},
   "outputs": [],
   "source": [
    "# Read CSV file into a DataFrame\n",
    "# df = pd.read_csv('video_comments.csv')\n",
    "\n",
    "# # Save DataFrame as Parquet file\n",
    "# df.to_parquet('video_comments.parquet')"
   ]
  },
  {
   "cell_type": "code",
   "execution_count": 9,
   "id": "d1639165-5008-4d59-b4f3-11da45ead2c0",
   "metadata": {},
   "outputs": [],
   "source": [
    "# df = pd.read_csv('video_details.csv')\n",
    "\n",
    "# # Save DataFrame as Parquet file\n",
    "# df.to_parquet('video_details.parquet')"
   ]
  },
  {
   "cell_type": "code",
   "execution_count": 2,
   "id": "7213546d-c48c-48f1-a4af-aa876b3fed96",
   "metadata": {},
   "outputs": [
    {
     "name": "stdout",
     "output_type": "stream",
     "text": [
      "CPU times: user 3.84 s, sys: 799 ms, total: 4.64 s\n",
      "Wall time: 4.25 s\n",
      "CPU times: user 1.51 s, sys: 434 ms, total: 1.94 s\n",
      "Wall time: 1.93 s\n"
     ]
    }
   ],
   "source": [
    "\n",
    "\n",
    "\n",
    "%time pdf_df = pd.read_parquet('video_comments.parquet')\n",
    "\n",
    "%time cd_parquet = cd.read_parquet('video_comments.parquet')\n",
    "\n",
    "\n",
    "\n"
   ]
  },
  {
   "cell_type": "code",
   "execution_count": 4,
   "id": "e14a158a-0608-49ac-a1d9-06f82ca0ec3c",
   "metadata": {},
   "outputs": [
    {
     "name": "stdout",
     "output_type": "stream",
     "text": [
      "Dimensions: 7379384\n"
     ]
    }
   ],
   "source": [
    "print('Dimensions:', len(df_parquet))"
   ]
  },
  {
   "cell_type": "code",
   "execution_count": 6,
   "id": "89d8e5b7-4bfc-45ca-9076-7714a9fddeae",
   "metadata": {},
   "outputs": [
    {
     "data": {
      "text/html": [
       "<div>\n",
       "<style scoped>\n",
       "    .dataframe tbody tr th:only-of-type {\n",
       "        vertical-align: middle;\n",
       "    }\n",
       "\n",
       "    .dataframe tbody tr th {\n",
       "        vertical-align: top;\n",
       "    }\n",
       "\n",
       "    .dataframe thead th {\n",
       "        text-align: right;\n",
       "    }\n",
       "</style>\n",
       "<table border=\"1\" class=\"dataframe\">\n",
       "  <thead>\n",
       "    <tr style=\"text-align: right;\">\n",
       "      <th></th>\n",
       "      <th>video_id</th>\n",
       "      <th>comment_text</th>\n",
       "      <th>likes</th>\n",
       "      <th>replies</th>\n",
       "    </tr>\n",
       "  </thead>\n",
       "  <tbody>\n",
       "    <tr>\n",
       "      <th>0</th>\n",
       "      <td>34Na4j8AVgA</td>\n",
       "      <td>Playing this song in a car in the middle of th...</td>\n",
       "      <td>41377</td>\n",
       "      <td>401</td>\n",
       "    </tr>\n",
       "    <tr>\n",
       "      <th>1</th>\n",
       "      <td>34Na4j8AVgA</td>\n",
       "      <td>This song is never gonna die in my heart 💜</td>\n",
       "      <td>14</td>\n",
       "      <td>0</td>\n",
       "    </tr>\n",
       "    <tr>\n",
       "      <th>2</th>\n",
       "      <td>34Na4j8AVgA</td>\n",
       "      <td>6 years have passed and this song is still one...</td>\n",
       "      <td>130</td>\n",
       "      <td>0</td>\n",
       "    </tr>\n",
       "    <tr>\n",
       "      <th>3</th>\n",
       "      <td>34Na4j8AVgA</td>\n",
       "      <td>لن امل من سماع هذه التحفة الفنية تستحق 10 مليا...</td>\n",
       "      <td>1</td>\n",
       "      <td>0</td>\n",
       "    </tr>\n",
       "    <tr>\n",
       "      <th>4</th>\n",
       "      <td>34Na4j8AVgA</td>\n",
       "      <td>Still a hit after 6 years I miss the old weekend</td>\n",
       "      <td>0</td>\n",
       "      <td>0</td>\n",
       "    </tr>\n",
       "  </tbody>\n",
       "</table>\n",
       "</div>"
      ],
      "text/plain": [
       "      video_id                                       comment_text  likes  \\\n",
       "0  34Na4j8AVgA  Playing this song in a car in the middle of th...  41377   \n",
       "1  34Na4j8AVgA         This song is never gonna die in my heart 💜     14   \n",
       "2  34Na4j8AVgA  6 years have passed and this song is still one...    130   \n",
       "3  34Na4j8AVgA  لن امل من سماع هذه التحفة الفنية تستحق 10 مليا...      1   \n",
       "4  34Na4j8AVgA   Still a hit after 6 years I miss the old weekend      0   \n",
       "\n",
       "   replies  \n",
       "0      401  \n",
       "1        0  \n",
       "2        0  \n",
       "3        0  \n",
       "4        0  "
      ]
     },
     "execution_count": 6,
     "metadata": {},
     "output_type": "execute_result"
    }
   ],
   "source": [
    "df_parquet.head()"
   ]
  },
  {
   "cell_type": "code",
   "execution_count": 14,
   "id": "cfa75445-cf1e-47cd-9f19-e15d1447f06b",
   "metadata": {},
   "outputs": [
    {
     "name": "stdout",
     "output_type": "stream",
     "text": [
      "CSV file read time: 1596.9153501987457 seconds\n",
      "Parquet file read time: 1159.6301338672638 seconds\n"
     ]
    }
   ],
   "source": []
  },
  {
   "cell_type": "code",
   "execution_count": 40,
   "id": "c874d6e2-e9d2-4ef9-a8fd-405e61d3f181",
   "metadata": {},
   "outputs": [],
   "source": [
    "## Load the comments into a Dask DataFrame\n",
    "#num_partitions = 4  # Example: Set the desired number of partitions\n",
    "#df_dask = dd.from_pandas(df_parquet, npartitions=num_partitions)"
   ]
  },
  {
   "cell_type": "code",
   "execution_count": 41,
   "id": "b8a1df45-84cf-4aaf-a950-9f128b979b48",
   "metadata": {},
   "outputs": [],
   "source": [
    "## Explicitly specify the data types of columns if necessary\n",
    "#df_dask['comment_text'] = df_dask['comment_text'].astype(str)\n",
    "\n",
    "## Extract the comment_text column as a Dask Series\n",
    "#comments = df_dask['comment_text']"
   ]
  },
  {
   "cell_type": "code",
   "execution_count": 47,
   "id": "307a1217-0ab2-4cc5-af3d-3f42bd1a2d3f",
   "metadata": {},
   "outputs": [
    {
     "name": "stdout",
     "output_type": "stream",
     "text": [
      "[ 0.2023  0.9108  0.4215  0.6369 -0.1531  0.8519 -0.7351  0.0258  0.\n",
      "  0.9711]\n",
      "Elapsed time (Dask + cupy): 934.092068195343 seconds\n"
     ]
    }
   ],
   "source": []
  },
  {
   "cell_type": "code",
   "execution_count": null,
   "id": "590e6a76-c619-4669-9a79-7ea20f9a36bc",
   "metadata": {},
   "outputs": [],
   "source": [
    "import time\n",
    "from vaderSentiment.vaderSentiment import SentimentIntensityAnalyzer\n",
    "# GPU\n",
    "import cupy as cp\n",
    "import cudf as cd\n",
    "\n",
    "\n",
    "\n",
    "%time cd_parquet = cd.read_parquet('video_comments.parquet')\n",
    "# Extract the comment_text column as a cuDF Series\n",
    "#comments = cd_parquet['comment_text']\n",
    "\n",
    "# Create the SentimentIntensityAnalyzer object\n",
    "analyzer = SentimentIntensityAnalyzer()\n",
    "# Define a cuDF function for sentiment analysis\n",
    "def calculate_polarity(comment):\n",
    "    return analyzer.polarity_scores(comment)['compound']"
   ]
  },
  {
   "cell_type": "code",
   "execution_count": 22,
   "id": "cc4a16a0-77e1-4113-921f-49b7c6d2869a",
   "metadata": {},
   "outputs": [
    {
     "name": "stdout",
     "output_type": "stream",
     "text": [
      "Sentiment analysis took 720.6410095691681 seconds\n"
     ]
    }
   ],
   "source": [
    "comments = cd_parquet['comment_text'].dropna()\n",
    "start_time = time.time()\n",
    "\n",
    "# Convert the comments to a list\n",
    "comments_list = comments.to_pandas().tolist()\n",
    "\n",
    "# Calculate sentiment polarity using CPU\n",
    "polarity_scores = [calculate_polarity(comment) for comment in comments_list]\n",
    "end_time = time.time()\n",
    "print(f\"Sentiment analysis took {end_time - start_time} seconds\")\n",
    "\n",
    "\n",
    "# Transfer the polarity scores back to the host (CPU)\n",
    "#polarity_scores_host = cp.asnumpy(polarity_scores)\n",
    "\n"
   ]
  },
  {
   "cell_type": "code",
   "execution_count": 15,
   "id": "71c90e08-5a11-4575-84b1-70f190c33e4e",
   "metadata": {},
   "outputs": [],
   "source": []
  },
  {
   "cell_type": "code",
   "execution_count": 7,
   "id": "89d94f8d-94d9-4c44-ad34-89ac6caf19ca",
   "metadata": {},
   "outputs": [
    {
     "data": {
      "text/plain": [
       "video_id        110674294\n",
       "comment_text    655720034\n",
       "likes            59035072\n",
       "replies          59035072\n",
       "dtype: int64"
      ]
     },
     "execution_count": 7,
     "metadata": {},
     "output_type": "execute_result"
    }
   ],
   "source": [
    "cd_parquet.memory_usage(index=False)"
   ]
  },
  {
   "cell_type": "code",
   "execution_count": 2,
   "id": "10fd4916-1849-41b6-9e2a-c3cd3c00d1d9",
   "metadata": {},
   "outputs": [
    {
     "name": "stdout",
     "output_type": "stream",
     "text": [
      "CPU times: user 393 ms, sys: 93.3 ms, total: 486 ms\n",
      "Wall time: 479 ms\n",
      "CPU times: user 3.36 s, sys: 1.18 s, total: 4.54 s\n",
      "Wall time: 2min 3s\n",
      "Sentiment analysis took 126.19851636886597 seconds\n"
     ]
    }
   ],
   "source": [
    "import time\n",
    "from vaderSentiment.vaderSentiment import SentimentIntensityAnalyzer\n",
    "# GPU\n",
    "import cupy as cp\n",
    "import cudf as cd\n",
    "import numba\n",
    "from multiprocessing import Pool\n",
    "\n",
    "\n",
    "\n",
    "%time cd_parquet = cd.read_parquet('video_comments.parquet')\n",
    "\n",
    "# Create the SentimentIntensityAnalyzer object\n",
    "analyzer = SentimentIntensityAnalyzer()\n",
    "# Define a cuDF function for sentiment analysis\n",
    "def calculate_polarity(comment):\n",
    "    return analyzer.polarity_scores(comment)['compound']\n",
    "\n",
    "comments = cd_parquet['comment_text'].dropna()\n",
    "start_time = time.time()\n",
    "\n",
    "# Convert the comments to a list\n",
    "comments_list = comments.to_pandas().tolist()\n",
    "\n",
    "# Calculate sentiment polarity using multiprocessing\n",
    "with Pool() as pool:\n",
    "    %time polarity_scores = pool.map(calculate_polarity, comments_list)\n",
    "end_time = time.time()\n",
    "print(f\"Sentiment analysis took {end_time - start_time} seconds\")"
   ]
  },
  {
   "cell_type": "code",
   "execution_count": null,
   "id": "d7139769-d8b3-46d5-ad03-13c5a21de785",
   "metadata": {},
   "outputs": [],
   "source": []
  }
 ],
 "metadata": {
  "kernelspec": {
   "display_name": "Python 3 (ipykernel)",
   "language": "python",
   "name": "python3"
  },
  "language_info": {
   "codemirror_mode": {
    "name": "ipython",
    "version": 3
   },
   "file_extension": ".py",
   "mimetype": "text/x-python",
   "name": "python",
   "nbconvert_exporter": "python",
   "pygments_lexer": "ipython3",
   "version": "3.10.11"
  }
 },
 "nbformat": 4,
 "nbformat_minor": 5
}
